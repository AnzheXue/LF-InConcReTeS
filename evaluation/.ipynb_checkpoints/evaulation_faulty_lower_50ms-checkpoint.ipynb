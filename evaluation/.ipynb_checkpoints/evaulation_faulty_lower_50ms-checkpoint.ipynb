{
 "cells": [
  {
   "cell_type": "code",
   "execution_count": 1,
   "id": "18fcb471-adb1-4f49-af5f-b5049992a29f",
   "metadata": {},
   "outputs": [],
   "source": [
    "import os\n",
    "import glob\n",
    "import pandas as pd\n",
    "import numpy as np\n",
    "import matplotlib.pyplot as plt\n",
    "import re"
   ]
  },
  {
   "cell_type": "code",
   "execution_count": null,
   "id": "d4e2090f-2d09-4dd6-a84b-335a1757261e",
   "metadata": {},
   "outputs": [],
   "source": [
    "ivp_files = glob.glob(\"raw_timing_IvPSim_*ms_faulty.csv\")\n",
    "kvs_files = glob.glob(\"raw_timing_KVS_*_*ms_faulty.csv\")\n",
    "all_files = ivp_files + kvs_files"
   ]
  }
 ],
 "metadata": {
  "kernelspec": {
   "display_name": "Python [conda env:cpsc330]",
   "language": "python",
   "name": "conda-env-cpsc330-py"
  },
  "language_info": {
   "codemirror_mode": {
    "name": "ipython",
    "version": 3
   },
   "file_extension": ".py",
   "mimetype": "text/x-python",
   "name": "python",
   "nbconvert_exporter": "python",
   "pygments_lexer": "ipython3",
   "version": "3.10.0"
  }
 },
 "nbformat": 4,
 "nbformat_minor": 5
}
